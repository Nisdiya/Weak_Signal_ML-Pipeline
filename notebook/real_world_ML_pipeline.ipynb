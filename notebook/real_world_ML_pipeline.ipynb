{
 "cells": [
  {
   "cell_type": "markdown",
   "id": "1766bc80-5180-4cda-aa9b-2e7e656559a5",
   "metadata": {},
   "source": [
    "Importing the dataset into the jupyter notebook"
   ]
  },
  {
   "cell_type": "code",
   "execution_count": 1,
   "id": "487d4524-a2fd-4ead-9a6a-b613f3d32f59",
   "metadata": {},
   "outputs": [
    {
     "data": {
      "text/html": [
       "<div>\n",
       "<style scoped>\n",
       "    .dataframe tbody tr th:only-of-type {\n",
       "        vertical-align: middle;\n",
       "    }\n",
       "\n",
       "    .dataframe tbody tr th {\n",
       "        vertical-align: top;\n",
       "    }\n",
       "\n",
       "    .dataframe thead th {\n",
       "        text-align: right;\n",
       "    }\n",
       "</style>\n",
       "<table border=\"1\" class=\"dataframe\">\n",
       "  <thead>\n",
       "    <tr style=\"text-align: right;\">\n",
       "      <th></th>\n",
       "      <th>Id</th>\n",
       "      <th>score</th>\n",
       "      <th>V3</th>\n",
       "      <th>V4</th>\n",
       "      <th>V5</th>\n",
       "      <th>V6</th>\n",
       "      <th>V7</th>\n",
       "      <th>V8</th>\n",
       "      <th>V9</th>\n",
       "      <th>V10</th>\n",
       "      <th>...</th>\n",
       "      <th>V20</th>\n",
       "      <th>V21</th>\n",
       "      <th>V22</th>\n",
       "      <th>V23</th>\n",
       "      <th>V24</th>\n",
       "      <th>V25</th>\n",
       "      <th>V26</th>\n",
       "      <th>V27</th>\n",
       "      <th>V28</th>\n",
       "      <th>V29</th>\n",
       "    </tr>\n",
       "  </thead>\n",
       "  <tbody>\n",
       "    <tr>\n",
       "      <th>0</th>\n",
       "      <td>403</td>\n",
       "      <td>34.130</td>\n",
       "      <td>0.00243</td>\n",
       "      <td>0.000018</td>\n",
       "      <td>0.00108</td>\n",
       "      <td>0.00124</td>\n",
       "      <td>0.00323</td>\n",
       "      <td>0.01147</td>\n",
       "      <td>0.105</td>\n",
       "      <td>0.00625</td>\n",
       "      <td>...</td>\n",
       "      <td>-0.824511</td>\n",
       "      <td>-1.217875</td>\n",
       "      <td>-0.432389</td>\n",
       "      <td>-1.455320</td>\n",
       "      <td>-0.280675</td>\n",
       "      <td>0.681113</td>\n",
       "      <td>0.375320</td>\n",
       "      <td>0.764563</td>\n",
       "      <td>-0.237859</td>\n",
       "      <td>-0.282198</td>\n",
       "    </tr>\n",
       "    <tr>\n",
       "      <th>1</th>\n",
       "      <td>1477</td>\n",
       "      <td>19.000</td>\n",
       "      <td>0.00280</td>\n",
       "      <td>0.000021</td>\n",
       "      <td>0.00087</td>\n",
       "      <td>0.00128</td>\n",
       "      <td>0.00260</td>\n",
       "      <td>0.01575</td>\n",
       "      <td>0.137</td>\n",
       "      <td>0.00812</td>\n",
       "      <td>...</td>\n",
       "      <td>0.080466</td>\n",
       "      <td>-0.812559</td>\n",
       "      <td>1.512731</td>\n",
       "      <td>0.070331</td>\n",
       "      <td>2.368754</td>\n",
       "      <td>-0.256309</td>\n",
       "      <td>1.315997</td>\n",
       "      <td>0.093631</td>\n",
       "      <td>-0.389538</td>\n",
       "      <td>1.396095</td>\n",
       "    </tr>\n",
       "    <tr>\n",
       "      <th>2</th>\n",
       "      <td>5342</td>\n",
       "      <td>43.104</td>\n",
       "      <td>0.00412</td>\n",
       "      <td>0.000028</td>\n",
       "      <td>0.00162</td>\n",
       "      <td>0.00213</td>\n",
       "      <td>0.00487</td>\n",
       "      <td>0.02644</td>\n",
       "      <td>0.242</td>\n",
       "      <td>0.01150</td>\n",
       "      <td>...</td>\n",
       "      <td>-0.060555</td>\n",
       "      <td>-0.027766</td>\n",
       "      <td>-0.123652</td>\n",
       "      <td>0.820478</td>\n",
       "      <td>1.054439</td>\n",
       "      <td>1.922146</td>\n",
       "      <td>-1.262435</td>\n",
       "      <td>2.017997</td>\n",
       "      <td>0.687229</td>\n",
       "      <td>-0.935456</td>\n",
       "    </tr>\n",
       "    <tr>\n",
       "      <th>3</th>\n",
       "      <td>3812</td>\n",
       "      <td>38.814</td>\n",
       "      <td>0.00781</td>\n",
       "      <td>0.000043</td>\n",
       "      <td>0.00451</td>\n",
       "      <td>0.00399</td>\n",
       "      <td>0.01353</td>\n",
       "      <td>0.02975</td>\n",
       "      <td>0.261</td>\n",
       "      <td>0.01650</td>\n",
       "      <td>...</td>\n",
       "      <td>-0.153332</td>\n",
       "      <td>-1.298289</td>\n",
       "      <td>1.410486</td>\n",
       "      <td>1.950012</td>\n",
       "      <td>0.613255</td>\n",
       "      <td>0.492419</td>\n",
       "      <td>0.124454</td>\n",
       "      <td>0.891332</td>\n",
       "      <td>0.401179</td>\n",
       "      <td>0.383195</td>\n",
       "    </tr>\n",
       "    <tr>\n",
       "      <th>4</th>\n",
       "      <td>138</td>\n",
       "      <td>41.034</td>\n",
       "      <td>0.00488</td>\n",
       "      <td>0.000026</td>\n",
       "      <td>0.00265</td>\n",
       "      <td>0.00251</td>\n",
       "      <td>0.00794</td>\n",
       "      <td>0.04983</td>\n",
       "      <td>0.448</td>\n",
       "      <td>0.02688</td>\n",
       "      <td>...</td>\n",
       "      <td>-0.985639</td>\n",
       "      <td>-0.469064</td>\n",
       "      <td>-2.579920</td>\n",
       "      <td>0.173884</td>\n",
       "      <td>-0.330941</td>\n",
       "      <td>0.089597</td>\n",
       "      <td>0.617369</td>\n",
       "      <td>-0.183967</td>\n",
       "      <td>0.408726</td>\n",
       "      <td>1.607871</td>\n",
       "    </tr>\n",
       "  </tbody>\n",
       "</table>\n",
       "<p>5 rows × 29 columns</p>\n",
       "</div>"
      ],
      "text/plain": [
       "     Id   score       V3        V4       V5       V6       V7       V8     V9  \\\n",
       "0   403  34.130  0.00243  0.000018  0.00108  0.00124  0.00323  0.01147  0.105   \n",
       "1  1477  19.000  0.00280  0.000021  0.00087  0.00128  0.00260  0.01575  0.137   \n",
       "2  5342  43.104  0.00412  0.000028  0.00162  0.00213  0.00487  0.02644  0.242   \n",
       "3  3812  38.814  0.00781  0.000043  0.00451  0.00399  0.01353  0.02975  0.261   \n",
       "4   138  41.034  0.00488  0.000026  0.00265  0.00251  0.00794  0.04983  0.448   \n",
       "\n",
       "       V10  ...       V20       V21       V22       V23       V24       V25  \\\n",
       "0  0.00625  ... -0.824511 -1.217875 -0.432389 -1.455320 -0.280675  0.681113   \n",
       "1  0.00812  ...  0.080466 -0.812559  1.512731  0.070331  2.368754 -0.256309   \n",
       "2  0.01150  ... -0.060555 -0.027766 -0.123652  0.820478  1.054439  1.922146   \n",
       "3  0.01650  ... -0.153332 -1.298289  1.410486  1.950012  0.613255  0.492419   \n",
       "4  0.02688  ... -0.985639 -0.469064 -2.579920  0.173884 -0.330941  0.089597   \n",
       "\n",
       "        V26       V27       V28       V29  \n",
       "0  0.375320  0.764563 -0.237859 -0.282198  \n",
       "1  1.315997  0.093631 -0.389538  1.396095  \n",
       "2 -1.262435  2.017997  0.687229 -0.935456  \n",
       "3  0.124454  0.891332  0.401179  0.383195  \n",
       "4  0.617369 -0.183967  0.408726  1.607871  \n",
       "\n",
       "[5 rows x 29 columns]"
      ]
     },
     "execution_count": 1,
     "metadata": {},
     "output_type": "execute_result"
    }
   ],
   "source": [
    "import pandas as pd\n",
    "import numpy as np\n",
    "import matplotlib.pyplot as plt\n",
    "import seaborn as sns\n",
    "\n",
    "df = pd.read_csv(\"Downloads/house_train.csv\")\n",
    "df.head()"
   ]
  },
  {
   "cell_type": "markdown",
   "id": "1308a1ba-7e96-4472-b89e-f4dd30f994c4",
   "metadata": {},
   "source": [
    "Understanding the type of columns and the data structure"
   ]
  },
  {
   "cell_type": "code",
   "execution_count": 2,
   "id": "b6a0a687-1d27-4290-9340-c290fa1341a6",
   "metadata": {},
   "outputs": [
    {
     "name": "stdout",
     "output_type": "stream",
     "text": [
      "<class 'pandas.core.frame.DataFrame'>\n",
      "RangeIndex: 4141 entries, 0 to 4140\n",
      "Data columns (total 29 columns):\n",
      " #   Column  Non-Null Count  Dtype  \n",
      "---  ------  --------------  -----  \n",
      " 0   Id      4141 non-null   int64  \n",
      " 1   score   4141 non-null   float64\n",
      " 2   V3      4141 non-null   float64\n",
      " 3   V4      4141 non-null   float64\n",
      " 4   V5      4141 non-null   float64\n",
      " 5   V6      4141 non-null   float64\n",
      " 6   V7      4141 non-null   float64\n",
      " 7   V8      4141 non-null   float64\n",
      " 8   V9      4141 non-null   float64\n",
      " 9   V10     4141 non-null   float64\n",
      " 10  V11     4141 non-null   float64\n",
      " 11  V12     4141 non-null   float64\n",
      " 12  V13     4141 non-null   float64\n",
      " 13  V14     4141 non-null   float64\n",
      " 14  V15     4141 non-null   float64\n",
      " 15  V16     4141 non-null   float64\n",
      " 16  V17     4141 non-null   float64\n",
      " 17  V18     4141 non-null   float64\n",
      " 18  V19     4141 non-null   float64\n",
      " 19  V20     4141 non-null   float64\n",
      " 20  V21     4141 non-null   float64\n",
      " 21  V22     4141 non-null   float64\n",
      " 22  V23     4141 non-null   float64\n",
      " 23  V24     4141 non-null   float64\n",
      " 24  V25     4141 non-null   float64\n",
      " 25  V26     4141 non-null   float64\n",
      " 26  V27     4141 non-null   float64\n",
      " 27  V28     4141 non-null   float64\n",
      " 28  V29     4141 non-null   float64\n",
      "dtypes: float64(28), int64(1)\n",
      "memory usage: 938.3 KB\n"
     ]
    },
    {
     "data": {
      "text/plain": [
       "(4141, 29)"
      ]
     },
     "execution_count": 2,
     "metadata": {},
     "output_type": "execute_result"
    }
   ],
   "source": [
    "df.info()\n",
    "df.shape"
   ]
  },
  {
   "cell_type": "code",
   "execution_count": 3,
   "id": "80c285e6-fb9f-48d1-a6f0-31e44e1d1698",
   "metadata": {},
   "outputs": [
    {
     "data": {
      "text/plain": [
       "Id       0\n",
       "score    0\n",
       "V3       0\n",
       "V4       0\n",
       "V5       0\n",
       "V6       0\n",
       "V7       0\n",
       "V8       0\n",
       "V9       0\n",
       "V10      0\n",
       "V11      0\n",
       "V12      0\n",
       "V13      0\n",
       "V14      0\n",
       "V15      0\n",
       "V16      0\n",
       "V17      0\n",
       "V18      0\n",
       "V19      0\n",
       "V20      0\n",
       "V21      0\n",
       "V22      0\n",
       "V23      0\n",
       "V24      0\n",
       "V25      0\n",
       "V26      0\n",
       "V27      0\n",
       "V28      0\n",
       "V29      0\n",
       "dtype: int64"
      ]
     },
     "execution_count": 3,
     "metadata": {},
     "output_type": "execute_result"
    }
   ],
   "source": [
    "df.isnull().sum()"
   ]
  },
  {
   "cell_type": "code",
   "execution_count": 4,
   "id": "618d0a7b-598a-4a69-a43d-4a5ff4cb94db",
   "metadata": {},
   "outputs": [
    {
     "data": {
      "text/html": [
       "<div>\n",
       "<style scoped>\n",
       "    .dataframe tbody tr th:only-of-type {\n",
       "        vertical-align: middle;\n",
       "    }\n",
       "\n",
       "    .dataframe tbody tr th {\n",
       "        vertical-align: top;\n",
       "    }\n",
       "\n",
       "    .dataframe thead th {\n",
       "        text-align: right;\n",
       "    }\n",
       "</style>\n",
       "<table border=\"1\" class=\"dataframe\">\n",
       "  <thead>\n",
       "    <tr style=\"text-align: right;\">\n",
       "      <th></th>\n",
       "      <th>Id</th>\n",
       "      <th>score</th>\n",
       "      <th>V3</th>\n",
       "      <th>V4</th>\n",
       "      <th>V5</th>\n",
       "      <th>V6</th>\n",
       "      <th>V7</th>\n",
       "      <th>V8</th>\n",
       "      <th>V9</th>\n",
       "      <th>V10</th>\n",
       "      <th>...</th>\n",
       "      <th>V20</th>\n",
       "      <th>V21</th>\n",
       "      <th>V22</th>\n",
       "      <th>V23</th>\n",
       "      <th>V24</th>\n",
       "      <th>V25</th>\n",
       "      <th>V26</th>\n",
       "      <th>V27</th>\n",
       "      <th>V28</th>\n",
       "      <th>V29</th>\n",
       "    </tr>\n",
       "  </thead>\n",
       "  <tbody>\n",
       "    <tr>\n",
       "      <th>count</th>\n",
       "      <td>4141.000000</td>\n",
       "      <td>4141.000000</td>\n",
       "      <td>4141.000000</td>\n",
       "      <td>4141.000000</td>\n",
       "      <td>4141.000000</td>\n",
       "      <td>4141.000000</td>\n",
       "      <td>4141.000000</td>\n",
       "      <td>4141.000000</td>\n",
       "      <td>4141.000000</td>\n",
       "      <td>4141.000000</td>\n",
       "      <td>...</td>\n",
       "      <td>4141.000000</td>\n",
       "      <td>4141.000000</td>\n",
       "      <td>4141.000000</td>\n",
       "      <td>4141.000000</td>\n",
       "      <td>4141.000000</td>\n",
       "      <td>4141.000000</td>\n",
       "      <td>4141.000000</td>\n",
       "      <td>4141.000000</td>\n",
       "      <td>4141.000000</td>\n",
       "      <td>4141.000000</td>\n",
       "    </tr>\n",
       "    <tr>\n",
       "      <th>mean</th>\n",
       "      <td>2940.652499</td>\n",
       "      <td>29.121340</td>\n",
       "      <td>0.006104</td>\n",
       "      <td>0.000044</td>\n",
       "      <td>0.002964</td>\n",
       "      <td>0.003245</td>\n",
       "      <td>0.008893</td>\n",
       "      <td>0.034051</td>\n",
       "      <td>0.311054</td>\n",
       "      <td>0.017160</td>\n",
       "      <td>...</td>\n",
       "      <td>-0.012633</td>\n",
       "      <td>-0.025192</td>\n",
       "      <td>-0.000963</td>\n",
       "      <td>0.014772</td>\n",
       "      <td>0.008972</td>\n",
       "      <td>-0.007462</td>\n",
       "      <td>-0.016772</td>\n",
       "      <td>-0.000486</td>\n",
       "      <td>-0.005106</td>\n",
       "      <td>-0.018972</td>\n",
       "    </tr>\n",
       "    <tr>\n",
       "      <th>std</th>\n",
       "      <td>1699.192364</td>\n",
       "      <td>10.755535</td>\n",
       "      <td>0.005490</td>\n",
       "      <td>0.000035</td>\n",
       "      <td>0.003076</td>\n",
       "      <td>0.003616</td>\n",
       "      <td>0.009229</td>\n",
       "      <td>0.025476</td>\n",
       "      <td>0.227168</td>\n",
       "      <td>0.013016</td>\n",
       "      <td>...</td>\n",
       "      <td>1.001635</td>\n",
       "      <td>1.000682</td>\n",
       "      <td>1.008123</td>\n",
       "      <td>0.989822</td>\n",
       "      <td>0.996655</td>\n",
       "      <td>0.988960</td>\n",
       "      <td>1.026635</td>\n",
       "      <td>1.000286</td>\n",
       "      <td>0.990513</td>\n",
       "      <td>1.003466</td>\n",
       "    </tr>\n",
       "    <tr>\n",
       "      <th>min</th>\n",
       "      <td>1.000000</td>\n",
       "      <td>7.000000</td>\n",
       "      <td>0.000830</td>\n",
       "      <td>0.000002</td>\n",
       "      <td>0.000330</td>\n",
       "      <td>0.000430</td>\n",
       "      <td>0.000980</td>\n",
       "      <td>0.003060</td>\n",
       "      <td>0.026000</td>\n",
       "      <td>0.001610</td>\n",
       "      <td>...</td>\n",
       "      <td>-3.380800</td>\n",
       "      <td>-3.478111</td>\n",
       "      <td>-3.477503</td>\n",
       "      <td>-3.640632</td>\n",
       "      <td>-4.101566</td>\n",
       "      <td>-3.325202</td>\n",
       "      <td>-4.181709</td>\n",
       "      <td>-3.271369</td>\n",
       "      <td>-3.914810</td>\n",
       "      <td>-3.940039</td>\n",
       "    </tr>\n",
       "    <tr>\n",
       "      <th>25%</th>\n",
       "      <td>1475.000000</td>\n",
       "      <td>21.371000</td>\n",
       "      <td>0.003600</td>\n",
       "      <td>0.000023</td>\n",
       "      <td>0.001590</td>\n",
       "      <td>0.001830</td>\n",
       "      <td>0.004780</td>\n",
       "      <td>0.019260</td>\n",
       "      <td>0.177000</td>\n",
       "      <td>0.009310</td>\n",
       "      <td>...</td>\n",
       "      <td>-0.686830</td>\n",
       "      <td>-0.710558</td>\n",
       "      <td>-0.684078</td>\n",
       "      <td>-0.653262</td>\n",
       "      <td>-0.667845</td>\n",
       "      <td>-0.677333</td>\n",
       "      <td>-0.710010</td>\n",
       "      <td>-0.684800</td>\n",
       "      <td>-0.667930</td>\n",
       "      <td>-0.719007</td>\n",
       "    </tr>\n",
       "    <tr>\n",
       "      <th>50%</th>\n",
       "      <td>2946.000000</td>\n",
       "      <td>27.630000</td>\n",
       "      <td>0.004900</td>\n",
       "      <td>0.000035</td>\n",
       "      <td>0.002250</td>\n",
       "      <td>0.002480</td>\n",
       "      <td>0.006760</td>\n",
       "      <td>0.027750</td>\n",
       "      <td>0.255000</td>\n",
       "      <td>0.013770</td>\n",
       "      <td>...</td>\n",
       "      <td>-0.016551</td>\n",
       "      <td>-0.041247</td>\n",
       "      <td>0.010535</td>\n",
       "      <td>0.019838</td>\n",
       "      <td>0.012707</td>\n",
       "      <td>-0.014778</td>\n",
       "      <td>-0.022363</td>\n",
       "      <td>-0.017580</td>\n",
       "      <td>-0.020160</td>\n",
       "      <td>-0.018618</td>\n",
       "    </tr>\n",
       "    <tr>\n",
       "      <th>75%</th>\n",
       "      <td>4415.000000</td>\n",
       "      <td>36.483000</td>\n",
       "      <td>0.006770</td>\n",
       "      <td>0.000053</td>\n",
       "      <td>0.003270</td>\n",
       "      <td>0.003430</td>\n",
       "      <td>0.009800</td>\n",
       "      <td>0.039990</td>\n",
       "      <td>0.366000</td>\n",
       "      <td>0.020690</td>\n",
       "      <td>...</td>\n",
       "      <td>0.656291</td>\n",
       "      <td>0.660537</td>\n",
       "      <td>0.662715</td>\n",
       "      <td>0.676001</td>\n",
       "      <td>0.678279</td>\n",
       "      <td>0.649582</td>\n",
       "      <td>0.657142</td>\n",
       "      <td>0.643342</td>\n",
       "      <td>0.641950</td>\n",
       "      <td>0.659158</td>\n",
       "    </tr>\n",
       "    <tr>\n",
       "      <th>max</th>\n",
       "      <td>5873.000000</td>\n",
       "      <td>54.992000</td>\n",
       "      <td>0.099990</td>\n",
       "      <td>0.000446</td>\n",
       "      <td>0.057540</td>\n",
       "      <td>0.069560</td>\n",
       "      <td>0.172630</td>\n",
       "      <td>0.239150</td>\n",
       "      <td>1.970000</td>\n",
       "      <td>0.162670</td>\n",
       "      <td>...</td>\n",
       "      <td>3.521048</td>\n",
       "      <td>4.089038</td>\n",
       "      <td>3.415772</td>\n",
       "      <td>3.771027</td>\n",
       "      <td>3.904879</td>\n",
       "      <td>3.628111</td>\n",
       "      <td>4.551681</td>\n",
       "      <td>3.833876</td>\n",
       "      <td>3.459594</td>\n",
       "      <td>3.540049</td>\n",
       "    </tr>\n",
       "  </tbody>\n",
       "</table>\n",
       "<p>8 rows × 29 columns</p>\n",
       "</div>"
      ],
      "text/plain": [
       "                Id        score           V3           V4           V5  \\\n",
       "count  4141.000000  4141.000000  4141.000000  4141.000000  4141.000000   \n",
       "mean   2940.652499    29.121340     0.006104     0.000044     0.002964   \n",
       "std    1699.192364    10.755535     0.005490     0.000035     0.003076   \n",
       "min       1.000000     7.000000     0.000830     0.000002     0.000330   \n",
       "25%    1475.000000    21.371000     0.003600     0.000023     0.001590   \n",
       "50%    2946.000000    27.630000     0.004900     0.000035     0.002250   \n",
       "75%    4415.000000    36.483000     0.006770     0.000053     0.003270   \n",
       "max    5873.000000    54.992000     0.099990     0.000446     0.057540   \n",
       "\n",
       "                V6           V7           V8           V9          V10  ...  \\\n",
       "count  4141.000000  4141.000000  4141.000000  4141.000000  4141.000000  ...   \n",
       "mean      0.003245     0.008893     0.034051     0.311054     0.017160  ...   \n",
       "std       0.003616     0.009229     0.025476     0.227168     0.013016  ...   \n",
       "min       0.000430     0.000980     0.003060     0.026000     0.001610  ...   \n",
       "25%       0.001830     0.004780     0.019260     0.177000     0.009310  ...   \n",
       "50%       0.002480     0.006760     0.027750     0.255000     0.013770  ...   \n",
       "75%       0.003430     0.009800     0.039990     0.366000     0.020690  ...   \n",
       "max       0.069560     0.172630     0.239150     1.970000     0.162670  ...   \n",
       "\n",
       "               V20          V21          V22          V23          V24  \\\n",
       "count  4141.000000  4141.000000  4141.000000  4141.000000  4141.000000   \n",
       "mean     -0.012633    -0.025192    -0.000963     0.014772     0.008972   \n",
       "std       1.001635     1.000682     1.008123     0.989822     0.996655   \n",
       "min      -3.380800    -3.478111    -3.477503    -3.640632    -4.101566   \n",
       "25%      -0.686830    -0.710558    -0.684078    -0.653262    -0.667845   \n",
       "50%      -0.016551    -0.041247     0.010535     0.019838     0.012707   \n",
       "75%       0.656291     0.660537     0.662715     0.676001     0.678279   \n",
       "max       3.521048     4.089038     3.415772     3.771027     3.904879   \n",
       "\n",
       "               V25          V26          V27          V28          V29  \n",
       "count  4141.000000  4141.000000  4141.000000  4141.000000  4141.000000  \n",
       "mean     -0.007462    -0.016772    -0.000486    -0.005106    -0.018972  \n",
       "std       0.988960     1.026635     1.000286     0.990513     1.003466  \n",
       "min      -3.325202    -4.181709    -3.271369    -3.914810    -3.940039  \n",
       "25%      -0.677333    -0.710010    -0.684800    -0.667930    -0.719007  \n",
       "50%      -0.014778    -0.022363    -0.017580    -0.020160    -0.018618  \n",
       "75%       0.649582     0.657142     0.643342     0.641950     0.659158  \n",
       "max       3.628111     4.551681     3.833876     3.459594     3.540049  \n",
       "\n",
       "[8 rows x 29 columns]"
      ]
     },
     "execution_count": 4,
     "metadata": {},
     "output_type": "execute_result"
    }
   ],
   "source": [
    "df.describe()"
   ]
  },
  {
   "cell_type": "markdown",
   "id": "ec3c6a1e-a8f6-43cc-be31-bcf774b69c2d",
   "metadata": {},
   "source": [
    "Finding if the dataset has linear relationship or non-linear relationship"
   ]
  },
  {
   "cell_type": "code",
   "execution_count": 2,
   "id": "b7b3179c-ec40-4727-abc7-32c84755186c",
   "metadata": {},
   "outputs": [
    {
     "data": {
      "text/plain": [
       "Id       0.248855\n",
       "score    1.000000\n",
       "V3       0.061977\n",
       "V4       0.055533\n",
       "V5       0.050209\n",
       "V6       0.054069\n",
       "V7       0.050226\n",
       "V8       0.079528\n",
       "V9       0.086131\n",
       "V10      0.064929\n",
       "V11      0.073285\n",
       "V12      0.112084\n",
       "V13      0.064925\n",
       "V14      0.051288\n",
       "V15     -0.152277\n",
       "V16      0.147671\n",
       "V17     -0.121971\n",
       "V18      0.141283\n",
       "V19      0.005401\n",
       "V20      0.026254\n",
       "V21     -0.043407\n",
       "V22      0.010219\n",
       "V23      0.003865\n",
       "V24     -0.021065\n",
       "V25     -0.000255\n",
       "V26      0.011327\n",
       "V27     -0.018741\n",
       "V28     -0.021500\n",
       "V29      0.016380\n",
       "dtype: float64"
      ]
     },
     "execution_count": 2,
     "metadata": {},
     "output_type": "execute_result"
    }
   ],
   "source": [
    "df.corrwith(df[\"score\"])"
   ]
  },
  {
   "cell_type": "code",
   "execution_count": 3,
   "id": "1c96c6ed-916b-488e-b0d2-49e741cdc367",
   "metadata": {},
   "outputs": [
    {
     "data": {
      "image/png": "[encoded data removed]",
      "text/plain": [
       "<Figure size 800x700 with 2 Axes>"
      ]
     },
     "metadata": {},
     "output_type": "display_data"
    }
   ],
   "source": [
    "plt.figure(figsize = (8,7))\n",
    "sns.heatmap(df.corr(), cmap = \"coolwarm\")\n",
    "plt.show()"
   ]
  },
  {
   "cell_type": "markdown",
   "id": "92c8c4cd-16f8-4e0a-9306-fc9e58fac2d3",
   "metadata": {},
   "source": [
    "Using train_test_split to traint the models "
   ]
  },
  {
   "cell_type": "code",
   "execution_count": 2,
   "id": "a8b889f0-70a2-46ca-98fc-67add651830a",
   "metadata": {},
   "outputs": [
    {
     "name": "stdout",
     "output_type": "stream",
     "text": [
      "X Train:             V3        V4       V5       V6       V7       V8     V9      V10  \\\n",
      "3932  0.00849  0.000076  0.00408  0.00469  0.01225  0.04414  0.521  0.02179   \n",
      "178   0.00237  0.000016  0.00115  0.00121  0.00346  0.01253  0.112  0.00571   \n",
      "668   0.00492  0.000043  0.00238  0.00300  0.00713  0.02969  0.255  0.01630   \n",
      "3331  0.00394  0.000030  0.00183  0.00214  0.00550  0.04808  0.424  0.02517   \n",
      "787   0.00360  0.000020  0.00181  0.00165  0.00543  0.03006  0.248  0.01604   \n",
      "...       ...       ...      ...      ...      ...      ...    ...      ...   \n",
      "3444  0.00626  0.000048  0.00300  0.00274  0.00899  0.02218  0.200  0.00984   \n",
      "466   0.00824  0.000045  0.00478  0.00403  0.01433  0.06116  0.537  0.03363   \n",
      "3092  0.00269  0.000012  0.00138  0.00146  0.00413  0.01360  0.135  0.00625   \n",
      "3772  0.00882  0.000063  0.00541  0.00427  0.01623  0.03124  0.266  0.01695   \n",
      "860   0.00627  0.000062  0.00290  0.00341  0.00869  0.02374  0.204  0.00897   \n",
      "\n",
      "          V11      V12  ...       V20       V21       V22       V23       V24  \\\n",
      "3932  0.02762  0.04105  ...  0.309790 -1.193523 -0.037800  0.348491  0.042218   \n",
      "178   0.00676  0.01163  ... -0.455369 -0.763259  1.617919 -1.302040  0.809367   \n",
      "668   0.01756  0.02231  ...  1.343075  2.305426 -0.229937  0.591689 -1.453220   \n",
      "3331  0.03066  0.04398  ...  0.440467 -1.508448  0.379818 -2.298603 -0.120794   \n",
      "787   0.01634  0.02103  ... -1.101235  0.835747  0.256995 -0.027377 -0.619809   \n",
      "...       ...      ...  ...       ...       ...       ...       ...       ...   \n",
      "3444  0.01105  0.01820  ... -0.987856  0.408438  0.108498  0.132661 -1.051883   \n",
      "466   0.03473  0.04471  ... -0.098377 -0.810067 -0.856326  1.018566  1.425909   \n",
      "3092  0.00825  0.01141  ... -0.000248  0.716730  1.331791  0.647955  0.154649   \n",
      "3772  0.01852  0.02321  ...  0.720834 -1.248400  0.521820  1.156418  1.239645   \n",
      "860   0.01249  0.02626  ... -0.403821  0.153867 -0.660885 -0.454491 -2.172653   \n",
      "\n",
      "           V25       V26       V27       V28       V29  \n",
      "3932  0.106166 -0.927191 -0.789509  1.257304  0.700791  \n",
      "178   1.268665 -0.397436  1.411775 -0.747788  1.038223  \n",
      "668   0.980745 -2.445203 -1.477082 -0.615821 -1.614240  \n",
      "3331 -0.165604  0.037929 -0.056735  0.130701  1.865896  \n",
      "787  -1.106252 -3.239849  0.879934 -0.539611 -1.661440  \n",
      "...        ...       ...       ...       ...       ...  \n",
      "3444  0.718858 -1.583593 -1.426036 -1.675683  0.839072  \n",
      "466  -0.010313  1.368706 -1.591281  0.577365  1.813805  \n",
      "3092 -0.758838  0.493058  1.016762 -1.064253  0.065360  \n",
      "3772 -0.488279  0.051635 -2.427602  1.035635  0.226728  \n",
      "860   0.541799  0.885041 -0.936673  1.062833  0.472390  \n",
      "\n",
      "[3312 rows x 27 columns]\n",
      "Y Train:  3932    44.5030\n",
      "178     22.4290\n",
      "668     44.2530\n",
      "3331    40.3560\n",
      "787     28.3640\n",
      "         ...   \n",
      "3444    28.6330\n",
      "466     11.9950\n",
      "3092    11.2620\n",
      "3772     7.4552\n",
      "860     30.1940\n",
      "Name: score, Length: 3312, dtype: float64\n"
     ]
    }
   ],
   "source": [
    "from sklearn.model_selection import train_test_split\n",
    "X = df.drop(columns = [\"score\", \"Id\"], axis = 1)\n",
    "y = df[\"score\"]\n",
    "\n",
    "X_train, X_test, y_train, y_test = train_test_split(X, y, test_size = 0.2, random_state = 42)\n",
    "\n",
    "print(\"X Train: \", X_train)\n",
    "print(\"Y Train: \", y_train)"
   ]
  },
  {
   "cell_type": "markdown",
   "id": "c83e5b9b-a907-4847-b884-cb2fe88428a9",
   "metadata": {},
   "source": [
    "This was done without including any column after V18 in X_train."
   ]
  },
  {
   "cell_type": "markdown",
   "id": "50a8e3f8-4661-4630-ad60-f22b7c9b7ad7",
   "metadata": {},
   "source": [
    "Linear Regression giving such bad results, definitely not a model with linear relationships of columns"
   ]
  },
  {
   "cell_type": "code",
   "execution_count": 18,
   "id": "2e4a43e0-1ae2-4027-a6dd-f832e627d36c",
   "metadata": {},
   "outputs": [
    {
     "name": "stdout",
     "output_type": "stream",
     "text": [
      "R2 score:  -4.314186775274974\n",
      "MAE score:  8.341476308191698\n",
      "MSE score:  105.02362664703307\n"
     ]
    }
   ],
   "source": [
    "from sklearn.linear_model import LinearRegression\n",
    "from sklearn.metrics import r2_score, mean_absolute_error, mean_squared_error\n",
    "model = LinearRegression()\n",
    "model.fit(X_train, y_train)\n",
    "\n",
    "train_pred = model.predict(X_train)\n",
    "test_pred = model.predict(X_test)\n",
    "\n",
    "r2 = r2_score(test_pred, y_test)\n",
    "mae = mean_absolute_error(test_pred, y_test)\n",
    "mse = mean_squared_error(test_pred, y_test)\n",
    "\n",
    "print(\"R2 score: \", r2)\n",
    "print(\"MAE score: \", mae)\n",
    "print(\"MSE score: \", mse)"
   ]
  },
  {
   "cell_type": "markdown",
   "id": "6f230047-ecf5-4056-8b18-66e20d22aaca",
   "metadata": {},
   "source": [
    "Works better but not great."
   ]
  },
  {
   "cell_type": "code",
   "execution_count": 3,
   "id": "84834b8e-5585-4fb4-b673-79103bff00c1",
   "metadata": {},
   "outputs": [
    {
     "name": "stdout",
     "output_type": "stream",
     "text": [
      "R2 score:  -2.2684946635460976\n",
      "MAE score:  7.291090493378435\n",
      "MSE score:  82.35843497770323\n"
     ]
    }
   ],
   "source": [
    "from sklearn.ensemble import RandomForestRegressor\n",
    "from sklearn.metrics import r2_score, mean_absolute_error, mean_squared_error\n",
    "\n",
    "tree = RandomForestRegressor(max_depth = 10, n_estimators = 500, random_state = 42)\n",
    "tree.fit(X_train, y_train)\n",
    "\n",
    "train_pred_2 = tree.predict(X_train)\n",
    "test_pred_2 = tree.predict(X_test)\n",
    "\n",
    "r2_2 = r2_score(test_pred_2, y_test)\n",
    "mae_2 = mean_absolute_error(test_pred_2, y_test)\n",
    "mse_2 = mean_squared_error(test_pred_2, y_test)\n",
    "\n",
    "print(\"R2 score: \", r2_2)\n",
    "print(\"MAE score: \", mae_2)\n",
    "print(\"MSE score: \", mse_2)"
   ]
  },
  {
   "cell_type": "markdown",
   "id": "f43bf2b6-e0b8-46d7-88e0-d333b79ba7a4",
   "metadata": {},
   "source": [
    "This Random Forest is now a strong predictive model for this dataset.\n",
    "\n",
    "Linear regression failed; weak correlations couldn’t help.\n",
    "\n",
    "Non-linear tree-based modeling is exactly what this dataset needed."
   ]
  },
  {
   "cell_type": "markdown",
   "id": "5426bdc3-e507-4169-89b8-9ea6e8d1c5f9",
   "metadata": {},
   "source": [
    "Searching features with max_importance, found out the id has been cheating with the results, thus, dropping and re-running\n",
    "to find actual important features"
   ]
  },
  {
   "cell_type": "code",
   "execution_count": 12,
   "id": "f08c2e31-0564-4cf9-9865-79540991edba",
   "metadata": {},
   "outputs": [
    {
     "data": {
      "image/png": "[encoded data removed]",
      "text/plain": [
       "<Figure size 1000x800 with 1 Axes>"
      ]
     },
     "metadata": {},
     "output_type": "display_data"
    }
   ],
   "source": [
    "importance = tree.feature_importances_\n",
    "feature_names = X.columns\n",
    "feature_importance = pd.DataFrame({'Features' : feature_names, 'Features importances' : importance})\n",
    "feature_importance = feature_importance.sort_values(by = 'Features importances', ascending = False)\n",
    "\n",
    "plt.figure(figsize=(10,8))\n",
    "plt.barh(feature_importance['Features'], feature_importance['Features importances'])\n",
    "plt.gca().invert_yaxis()\n",
    "plt.ylabel(\"Features\")\n",
    "plt.xlabel(\"Importances\")\n",
    "plt.title(\"Random forest feature importances\")\n",
    "plt.show()"
   ]
  },
  {
   "cell_type": "markdown",
   "id": "959820b0-a664-4620-a24b-81fb4d3f04a2",
   "metadata": {},
   "source": [
    "Works great, but the xgboost model only provides 24-28% of variance"
   ]
  },
  {
   "cell_type": "code",
   "execution_count": 4,
   "id": "93047fae-2192-46b4-8c46-ef2382ef567d",
   "metadata": {},
   "outputs": [
    {
     "name": "stdout",
     "output_type": "stream",
     "text": [
      "XGBoost CV Results:\n",
      "R2:  0.2453 (+/- 0.0243)\n",
      "MSE: 85.9795\n",
      "MAE: 7.3312\n",
      "\n",
      "On Holdout Test Set:\n",
      "R2 score:  0.2853202907015808\n",
      "MAE score:  7.431376512694502\n",
      "MSE score:  86.83276708220379\n"
     ]
    }
   ],
   "source": [
    "from xgboost import XGBRegressor\n",
    "from sklearn.model_selection import KFold, cross_val_score\n",
    "xgb = XGBRegressor(random_state = 42, learning_rate = 0.1, n_estimators = 500, max_depth = 5, subsample = 0.8, colsample_bytree = 0.8, n_jobs = -1)\n",
    "\n",
    "kf = KFold(n_splits = 5, shuffle = True, random_state = 42)\n",
    "cv_r2 = cross_val_score(xgb, X_train, y_train, cv = kf, scoring = \"r2\")\n",
    "cv_mse = -cross_val_score(xgb, X_train, y_train, cv = kf, scoring = \"neg_mean_squared_error\")\n",
    "cv_mae = -cross_val_score(xgb, X_train, y_train, cv = kf, scoring = \"neg_mean_absolute_error\")\n",
    "\n",
    "print(\"XGBoost CV Results:\")\n",
    "print(f\"R2:  {cv_r2.mean():.4f} (+/- {cv_r2.std():.4f})\")\n",
    "print(f\"MSE: {cv_mse.mean():.4f}\")\n",
    "print(f\"MAE: {cv_mae.mean():.4f}\")\n",
    "\n",
    "xgb.fit(X_train, y_train)\n",
    "\n",
    "xgb_test_pred = xgb.predict(X_test)\n",
    "\n",
    "print(\"\\nOn Holdout Test Set:\")\n",
    "print(\"R2 score: \", r2_score(y_test, xgb_test_pred))\n",
    "print(\"MAE score: \", mean_absolute_error(y_test, xgb_test_pred))\n",
    "print(\"MSE score: \", mean_squared_error(y_test, xgb_test_pred))"
   ]
  },
  {
   "cell_type": "markdown",
   "id": "5650f3a4-2852-45ea-85ba-39fe2c025cbe",
   "metadata": {},
   "source": [
    "Using the dummy regressor, to predict mean values and distance off"
   ]
  },
  {
   "cell_type": "code",
   "execution_count": 5,
   "id": "37d6f722-b364-4f3d-84c7-fca3c54aba61",
   "metadata": {},
   "outputs": [
    {
     "name": "stdout",
     "output_type": "stream",
     "text": [
      "Dummy R2: -9.658348416397011e-05\n",
      "Dummy MAE: 9.001717623271446\n",
      "Dummy MSE: 121.51059077728355\n"
     ]
    }
   ],
   "source": [
    "from sklearn.dummy import DummyRegressor\n",
    "dummy = DummyRegressor(strategy = \"mean\")\n",
    "dummy.fit(X_train, y_train)\n",
    "dummy_test_pred = dummy.predict(X_test)\n",
    "print(\"Dummy R2:\", r2_score(y_test, dummy_test_pred))\n",
    "print(\"Dummy MAE:\", mean_absolute_error(y_test, dummy_test_pred))\n",
    "print(\"Dummy MSE:\", mean_squared_error(y_test, dummy_test_pred))"
   ]
  },
  {
   "cell_type": "markdown",
   "id": "90823930-b65a-47da-85f5-26208c223a9d",
   "metadata": {},
   "source": [
    "Polynomial Features to search for non-linear data relationships and it works great provides r2_score = 0.371, but \n",
    "works terrible with linear model"
   ]
  },
  {
   "cell_type": "code",
   "execution_count": 5,
   "id": "769b3bcd-da05-4f24-b8ee-933a4c59ad98",
   "metadata": {},
   "outputs": [
    {
     "name": "stdout",
     "output_type": "stream",
     "text": [
      "Original shape: (3312, 27)\n",
      "After poly shape: (3312, 405)\n",
      "R2: -7.382333438812184\n",
      "MAE: 9.349000179974762\n",
      "MSE: 1018.4439233797018\n"
     ]
    }
   ],
   "source": [
    "from sklearn.preprocessing import PolynomialFeatures\n",
    "from sklearn.linear_model import LinearRegression\n",
    "poly = PolynomialFeatures(degree = 2, include_bias = False)\n",
    "X_train_poly = poly.fit_transform(X_train)\n",
    "X_test_poly = poly.transform(X_test)\n",
    "\n",
    "print(\"Original shape:\", X_train.shape)\n",
    "print(\"After poly shape:\", X_train_poly.shape)\n",
    "\n",
    "#rfr_poly = RandomForestRegressor(n_estimators=200, max_depth=10, random_state=42, n_jobs=-1)\n",
    "#rfr_poly.fit(X_train_poly, y_train)\n",
    "#y_pred_poly = rfr_poly.predict(X_test_poly)\n",
    "\n",
    "linear_poly = LinearRegression()\n",
    "linear_poly.fit(X_train_poly, y_train)\n",
    "y_pred_poly = linear_poly.predict(X_test_poly)\n",
    "\n",
    "print(\"R2:\", r2_score(y_test, y_pred_poly))\n",
    "print(\"MAE:\", mean_absolute_error(y_test, y_pred_poly))\n",
    "print(\"MSE:\", mean_squared_error(y_test, y_pred_poly))"
   ]
  },
  {
   "cell_type": "markdown",
   "id": "c5978ba2-124b-4389-b0cd-480616f49f08",
   "metadata": {},
   "source": [
    "Using lasso for stabilizing the overpowered columns, still no great outcome"
   ]
  },
  {
   "cell_type": "code",
   "execution_count": 6,
   "id": "77f00cb1-0e6e-4533-b3c9-df1155370aa4",
   "metadata": {},
   "outputs": [
    {
     "name": "stdout",
     "output_type": "stream",
     "text": [
      "Lasso R2: 0.08950739589929935\n",
      "Lasso MAE: 8.624347067068351\n",
      "Lasso MSE: 110.62380978964251\n"
     ]
    }
   ],
   "source": [
    "from sklearn.linear_model import LassoCV, RidgeCV\n",
    "\n",
    "lasso = LassoCV(cv=5, random_state=42, max_iter=10000)\n",
    "lasso.fit(X_train_poly, y_train)\n",
    "y_pred_lasso = lasso.predict(X_test_poly)\n",
    "\n",
    "print(\"Lasso R2:\", r2_score(y_test, y_pred_lasso))\n",
    "print(\"Lasso MAE:\", mean_absolute_error(y_test, y_pred_lasso))\n",
    "print(\"Lasso MSE:\", mean_squared_error(y_test, y_pred_lasso))\n"
   ]
  },
  {
   "cell_type": "markdown",
   "id": "55cddf35-8f59-41de-b4b0-1356e3e7472d",
   "metadata": {},
   "source": [
    "Plain Linear Regression + Polynomial → overfitting.\n",
    "\n",
    "Polynomial + Regularization (Lasso/Ridge/ElasticNet) → controlled complexity."
   ]
  },
  {
   "cell_type": "code",
   "execution_count": 8,
   "id": "2b00d5f3-c888-40ef-a2b3-691400ce1467",
   "metadata": {},
   "outputs": [
    {
     "name": "stdout",
     "output_type": "stream",
     "text": [
      "Explained variance ratio: 0.7720775342216268\n",
      "R2: 0.05153159555029729\n",
      "MAE: 8.792504949162417\n",
      "MSE: 115.23782608751989\n"
     ]
    }
   ],
   "source": [
    "from sklearn.decomposition import PCA\n",
    "pca = PCA(n_components = 5)\n",
    "X_train_pca = pca.fit_transform(X_train)\n",
    "X_test_pca = pca.transform(X_test)\n",
    "\n",
    "print(\"Explained variance ratio:\", pca.explained_variance_ratio_.sum())\n",
    "\n",
    "# Random Forest on PCA features\n",
    "rfr_pca = RandomForestRegressor(n_estimators=200, max_depth=10, random_state=42, n_jobs=-1)\n",
    "rfr_pca.fit(X_train_pca, y_train)\n",
    "y_pred_pca = rfr_pca.predict(X_test_pca)\n",
    "\n",
    "print(\"R2:\", r2_score(y_test, y_pred_pca))\n",
    "print(\"MAE:\", mean_absolute_error(y_test, y_pred_pca))\n",
    "print(\"MSE:\", mean_squared_error(y_test, y_pred_pca))"
   ]
  },
  {
   "cell_type": "markdown",
   "id": "e204c725-be6e-4243-bb7f-48ac06fb9997",
   "metadata": {},
   "source": [
    "Dropping Id exposed weak signal → models struggled.\n",
    "\n",
    "Dummy confirmed near-zero predictive power → dataset mostly noise.\n",
    "\n",
    "Polynomial features unlocked nonlinear structure → boosted R² to ~0.31.\n",
    "\n",
    "PCA failed for prediction → because it preserves variance in features, not predictive relationships."
   ]
  },
  {
   "cell_type": "markdown",
   "id": "a46ac352-352a-4a26-88b0-ce01268bd65c",
   "metadata": {},
   "source": [
    "After dropping the leaky Id, the dataset had very weak predictive power.\n",
    "Polynomial features with Random Forest gave the only meaningful boost (R² ≈ 0.31).\n",
    "Linear + Polynomial overfit heavily, and Lasso stabilized it but still couldn’t extract strong signal.\n",
    "This demonstrates the importance of matching model complexity with data characteristics."
   ]
  }
 ],
 "metadata": {
  "kernelspec": {
   "display_name": "Python [conda env:base] *",
   "language": "python",
   "name": "conda-base-py"
  },
  "language_info": {
   "codemirror_mode": {
    "name": "ipython",
    "version": 3
   },
   "file_extension": ".py",
   "mimetype": "text/x-python",
   "name": "python",
   "nbconvert_exporter": "python",
   "pygments_lexer": "ipython3",
   "version": "3.12.7"
  }
 },
 "nbformat": 4,
 "nbformat_minor": 5
}
